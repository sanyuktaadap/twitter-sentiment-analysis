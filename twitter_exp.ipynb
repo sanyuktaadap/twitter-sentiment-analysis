{
  "nbformat": 4,
  "nbformat_minor": 0,
  "metadata": {
    "colab": {
      "provenance": []
    },
    "kernelspec": {
      "name": "python3",
      "display_name": "Python 3"
    },
    "language_info": {
      "name": "python"
    }
  },
  "cells": [
    {
      "cell_type": "code",
      "execution_count": 55,
      "metadata": {
        "colab": {
          "base_uri": "https://localhost:8080/"
        },
        "id": "xNPZR_MO8Zpo",
        "outputId": "0f84346e-af9c-4522-ab43-6b0fd24d4b2b"
      },
      "outputs": [
        {
          "output_type": "stream",
          "name": "stdout",
          "text": [
            "Looking in indexes: https://pypi.org/simple, https://us-python.pkg.dev/colab-wheels/public/simple/\n",
            "Requirement already satisfied: tweepy in /usr/local/lib/python3.9/dist-packages (4.13.0)\n",
            "Requirement already satisfied: oauthlib<4,>=3.2.0 in /usr/local/lib/python3.9/dist-packages (from tweepy) (3.2.2)\n",
            "Requirement already satisfied: requests-oauthlib<2,>=1.2.0 in /usr/local/lib/python3.9/dist-packages (from tweepy) (1.3.1)\n",
            "Requirement already satisfied: requests<3,>=2.27.0 in /usr/local/lib/python3.9/dist-packages (from tweepy) (2.27.1)\n",
            "Requirement already satisfied: urllib3<1.27,>=1.21.1 in /usr/local/lib/python3.9/dist-packages (from requests<3,>=2.27.0->tweepy) (1.26.15)\n",
            "Requirement already satisfied: idna<4,>=2.5 in /usr/local/lib/python3.9/dist-packages (from requests<3,>=2.27.0->tweepy) (3.4)\n",
            "Requirement already satisfied: charset-normalizer~=2.0.0 in /usr/local/lib/python3.9/dist-packages (from requests<3,>=2.27.0->tweepy) (2.0.12)\n",
            "Requirement already satisfied: certifi>=2017.4.17 in /usr/local/lib/python3.9/dist-packages (from requests<3,>=2.27.0->tweepy) (2022.12.7)\n",
            "Looking in indexes: https://pypi.org/simple, https://us-python.pkg.dev/colab-wheels/public/simple/\n",
            "Requirement already satisfied: pprintpp in /usr/local/lib/python3.9/dist-packages (0.4.0)\n",
            "Looking in indexes: https://pypi.org/simple, https://us-python.pkg.dev/colab-wheels/public/simple/\n",
            "Collecting snscrape\n",
            "  Downloading snscrape-0.6.2.20230320-py3-none-any.whl (71 kB)\n",
            "\u001b[2K     \u001b[90m━━━━━━━━━━━━━━━━━━━━━━━━━━━━━━━━━━━━━━━━\u001b[0m \u001b[32m71.8/71.8 KB\u001b[0m \u001b[31m2.9 MB/s\u001b[0m eta \u001b[36m0:00:00\u001b[0m\n",
            "\u001b[?25hRequirement already satisfied: lxml in /usr/local/lib/python3.9/dist-packages (from snscrape) (4.9.2)\n",
            "Requirement already satisfied: beautifulsoup4 in /usr/local/lib/python3.9/dist-packages (from snscrape) (4.11.2)\n",
            "Requirement already satisfied: filelock in /usr/local/lib/python3.9/dist-packages (from snscrape) (3.10.7)\n",
            "Requirement already satisfied: requests[socks] in /usr/local/lib/python3.9/dist-packages (from snscrape) (2.27.1)\n",
            "Requirement already satisfied: soupsieve>1.2 in /usr/local/lib/python3.9/dist-packages (from beautifulsoup4->snscrape) (2.4)\n",
            "Requirement already satisfied: charset-normalizer~=2.0.0 in /usr/local/lib/python3.9/dist-packages (from requests[socks]->snscrape) (2.0.12)\n",
            "Requirement already satisfied: urllib3<1.27,>=1.21.1 in /usr/local/lib/python3.9/dist-packages (from requests[socks]->snscrape) (1.26.15)\n",
            "Requirement already satisfied: certifi>=2017.4.17 in /usr/local/lib/python3.9/dist-packages (from requests[socks]->snscrape) (2022.12.7)\n",
            "Requirement already satisfied: idna<4,>=2.5 in /usr/local/lib/python3.9/dist-packages (from requests[socks]->snscrape) (3.4)\n",
            "Requirement already satisfied: PySocks!=1.5.7,>=1.5.6 in /usr/local/lib/python3.9/dist-packages (from requests[socks]->snscrape) (1.7.1)\n",
            "Installing collected packages: snscrape\n",
            "Successfully installed snscrape-0.6.2.20230320\n"
          ]
        }
      ],
      "source": [
        "#Installing packages\n",
        "\n",
        "!pip install tweepy\n",
        "!pip install snscrape"
      ]
    },
    {
      "cell_type": "code",
      "source": [
        "# For Twitter API v.1.1\n",
        "# v.1.1 only provides 140 characters of the tweet, unlike v.2, that can retrieve the full text\n",
        "# v.1.1 might be deprecated soon. God Bless Elon Musk :(\n",
        "\n",
        "import tweepy\n",
        "\n",
        "## Set up Twitter API credentials\n",
        "api_key = 'enter_api_key'\n",
        "api_key_secret = 'enter_api_key_secret'\n",
        "\n",
        "## Authenticate with Twitter API\n",
        "auth = tweepy.OAuthHandler(api_key, api_key_secret)\n",
        "api = tweepy.API(auth)\n",
        "\n",
        "## Retriving tweets \n",
        "search_words = \"knee replacement\"\n",
        "new_tweets = api.search_tweets(q=search_words, count=10, lang='en', include_entities=False)\n",
        "\n",
        "toi = new_tweets[5]\n",
        "print(len(toi.text))\n",
        "\n",
        "tweet_text = toi.text\n",
        "url = 'https://twitter.com/i/web/status/' + toi.id_str\n",
        "print(tweet_text)\n",
        "print(url)"
      ],
      "metadata": {
        "id": "2Y1ruJXf8em4",
        "colab": {
          "base_uri": "https://localhost:8080/"
        },
        "outputId": "042a159c-2154-40a0-c6fd-b1167d304b8d"
      },
      "execution_count": 76,
      "outputs": [
        {
          "output_type": "stream",
          "name": "stdout",
          "text": [
            "140\n",
            "Indiraji Shreshta was suffering from knee pain in both legs for more than 15 years. She decided to get her knee rep… https://t.co/ay3dhEhMT6\n",
            "https://twitter.com/i/web/status/1643489875226763264\n"
          ]
        }
      ]
    },
    {
      "cell_type": "code",
      "source": [
        "# For Twitter Scraping\n",
        "# Full text available, free of cost, large amount of calls can be made \n",
        "\n",
        "from snscrape.modules import twitter\n",
        "import json\n",
        "\n",
        "queries = ['knee replacement']\n",
        "max_results = 5\n",
        "\n",
        "for query in queries:\n",
        "    scraper = twitter.TwitterSearchScraper(query)\n",
        "    items = scraper.get_items()\n",
        "\n",
        "    for i, item in enumerate(items):\n",
        "      tweet_json = json.loads(item.json())\n",
        "      print(i, tweet_json['content'])\n",
        "\n",
        "      if i + 1 == max_results:\n",
        "        break\n",
        "\n"
      ],
      "metadata": {
        "colab": {
          "base_uri": "https://localhost:8080/"
        },
        "id": "TG61YLeJc2ZM",
        "outputId": "0ce3c372-4601-4602-8ea9-cae855654789"
      },
      "execution_count": 78,
      "outputs": [
        {
          "output_type": "stream",
          "name": "stdout",
          "text": [
            "0 @SynapticXGamer @NebPubMediaNews If I get a knee replacement and regret it, should I be able to sue the healthcare provider?\n",
            "1 From Polio to Total Knee Replacement: An Inspirational Journey of Overco... https://t.co/VStMMaJjOI via @YouTube\n",
            "2 Suffering from Knee Pain? Medbros Surgery is the best Clinic for Knee pain treatment in Haridwar . Visit now Medbros Surgery  for better treatment at an affordable cost.\n",
            "📷Contact :-91 9997744220\n",
            "📷 Visit Website:- https://t.co/tFnXdQE7y7\n",
            "#kneereplacement #KneeReplacementSurgery https://t.co/fRYjDorPKd\n",
            "3 @DrDeepakKrishn1 Yes Sir, but pl. look at the minimal possibility of a 90 year old individual applying brakes when sliding off !!\n",
            "She was absolutely off her feet for more than 8 years, now has no cartilage left in both her knee joints and has been rendered unfit for joint replacement surgery due\n",
            "4 @chrissies141 @DrSteveTaylor Those times were when a GP referred a patient of theirs to hospital for treatment and that pt received the treatment they needed quickly and were fixed. Now, as just 1 example, a patient is referred who needs a knee replacement and often waits 3 years for surgery.\n"
          ]
        }
      ]
    },
    {
      "cell_type": "code",
      "source": [],
      "metadata": {
        "id": "LRqP7d-YEcNz"
      },
      "execution_count": null,
      "outputs": []
    }
  ]
}